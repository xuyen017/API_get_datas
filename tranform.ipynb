{
 "cells": [
  {
   "cell_type": "markdown",
   "metadata": {},
   "source": [
    "# Tranfrom Data\n"
   ]
  },
  {
   "cell_type": "markdown",
   "metadata": {},
   "source": [
    "* Load"
   ]
  },
  {
   "cell_type": "code",
   "execution_count": 35,
   "metadata": {},
   "outputs": [],
   "source": [
    "from pyspark.sql import SparkSession\n",
    "\n",
    "spark = SparkSession.builder.appName('Create Data Frame')\\\n",
    ".config(\"spark.jars\", \"C:/Program Files/PostgreSQL/16/postgresql-42.7.3.jar\") \\\n",
    ".getOrCreate()"
   ]
  },
  {
   "cell_type": "code",
   "execution_count": 36,
   "metadata": {},
   "outputs": [],
   "source": [
    "df1 = spark.read \\\n",
    ".format(\"csv\").option(\"header\", 'true')\\\n",
    ".option('inferSchema','true')\\\n",
    ".option('dateFormat', \"yyyy-MM-dd\")\\\n",
    ".load(r'C:\\Users\\chihi\\OneDrive\\Desktop\\report\\data\\lazada_data.csv')"
   ]
  },
  {
   "cell_type": "code",
   "execution_count": 37,
   "metadata": {},
   "outputs": [
    {
     "name": "stdout",
     "output_type": "stream",
     "text": [
      "+--------------------+---------+--------------------+--------+------------+--------+--------+--------------------+\n",
      "|               title|    price|           link_item|discount|        sold|evaluate|location|           timestamp|\n",
      "+--------------------+---------+--------------------+--------+------------+--------+--------+--------------------+\n",
      "|Thời trang mùa th...|112.100 ₫|https://www.lazad...| 17% Off|   36 Đã bán|    (17)|   China|2024-07-23 13:42:...|\n",
      "|PSD nam màu xanh ...| 66.900 ₫|https://www.lazad...| 23% Off|  316 Đã bán|     (9)|    NULL|2024-07-23 13:42:...|\n",
      "|Quần denim, quần ...| 89.800 ₫|https://www.lazad...| 23% Off|    6 Đã bán|    NULL|   China|2024-07-23 13:42:...|\n",
      "|Quần jean nam chấ...|139.000 ₫|https://www.lazad...| 22% Off|14.1K Đã bán|  (3416)|    NULL|2024-07-23 13:42:...|\n",
      "|Người Đàn Ông Mới...|199.200 ₫|https://www.lazad...| 23% Off|   42 Đã bán|    (23)|   China|2024-07-23 13:42:...|\n",
      "+--------------------+---------+--------------------+--------+------------+--------+--------+--------------------+\n",
      "only showing top 5 rows\n",
      "\n"
     ]
    }
   ],
   "source": [
    "df1.show(5)"
   ]
  },
  {
   "cell_type": "markdown",
   "metadata": {},
   "source": [
    "* thêm cột id"
   ]
  },
  {
   "cell_type": "code",
   "execution_count": 38,
   "metadata": {},
   "outputs": [],
   "source": [
    "from pyspark.sql import Window\n",
    "from pyspark.sql.functions import row_number\n",
    "\n",
    "windowSpec = Window.orderBy(\"price\")\n",
    "df1 = df1.withColumn(\"id\", row_number().over(windowSpec))\n",
    "# chỉnh cột id về đầu\n",
    "columns = ['id'] + [col for col in df1.columns if col != 'id']\n",
    "df1 = df1.select(columns)\n"
   ]
  },
  {
   "cell_type": "code",
   "execution_count": 39,
   "metadata": {},
   "outputs": [
    {
     "name": "stdout",
     "output_type": "stream",
     "text": [
      "+---+--------------------+---------+--------------------+--------+-----------+--------+-----------+--------------------+\n",
      "| id|               title|    price|           link_item|discount|       sold|evaluate|   location|           timestamp|\n",
      "+---+--------------------+---------+--------------------+--------+-----------+--------+-----------+--------------------+\n",
      "|  1|QUần Côn Nam Hàng...|100.000 ₫|https://www.lazad...|    NULL|  75 Đã bán|    (17)|       NULL|2024-07-23 13:42:...|\n",
      "|  2|Quần Jeans nam ca...|100.000 ₫|https://www.lazad...| 68% Off|  44 Đã bán|    (23)|      China|2024-07-23 13:42:...|\n",
      "|  3|Quần short denim ...|104.400 ₫|https://www.lazad...| 43% Off|  11 Đã bán|     (5)|Hồ Chí Minh|2024-07-23 13:42:...|\n",
      "|  4|M-3XL Mùa Hè Hàn ...|104.600 ₫|https://www.lazad...| 23% Off|  64 Đã bán|    (17)|       NULL|2024-07-23 13:42:...|\n",
      "|  5|HOÀN TIỀN 15% - Q...|105.000 ₫|https://www.lazad...| 50% Off|1.0K Đã bán|   (354)|       NULL|2024-07-23 13:42:...|\n",
      "+---+--------------------+---------+--------------------+--------+-----------+--------+-----------+--------------------+\n",
      "only showing top 5 rows\n",
      "\n"
     ]
    }
   ],
   "source": [
    "df1.show(5)"
   ]
  },
  {
   "cell_type": "code",
   "execution_count": 40,
   "metadata": {},
   "outputs": [
    {
     "name": "stdout",
     "output_type": "stream",
     "text": [
      "root\n",
      " |-- id: integer (nullable = false)\n",
      " |-- title: string (nullable = true)\n",
      " |-- price: string (nullable = true)\n",
      " |-- link_item: string (nullable = true)\n",
      " |-- discount: string (nullable = true)\n",
      " |-- sold: string (nullable = true)\n",
      " |-- evaluate: string (nullable = true)\n",
      " |-- location: string (nullable = true)\n",
      " |-- timestamp: timestamp (nullable = true)\n",
      "\n"
     ]
    }
   ],
   "source": [
    "df1.printSchema()"
   ]
  },
  {
   "cell_type": "code",
   "execution_count": 41,
   "metadata": {},
   "outputs": [],
   "source": [
    "from pyspark.sql.functions import regexp_replace, col, when, split, concat_ws\n",
    "\n",
    "\n",
    "# Xử lý cột 'evaluate': xóa dấu ngoặc đơn, thay thế giá trị null bằng 0, \n",
    "# và chuyển đổi thành kiểu int\n",
    "df1 = df1.withColumn(\n",
    "    'evaluate',\n",
    "    when(col('evaluate').isNull(), '0')\n",
    "    .otherwise(regexp_replace(col('evaluate'), '[()]', ''))\n",
    "    .cast('int')\n",
    ")\n",
    "\n",
    "# Xử lý cột 'price': xóa dấu chấm và ký hiệu tiền tệ, thay thế giá trị null bằng 0, \n",
    "# và chuyển đổi thành kiểu int\n",
    "df1 = df1.withColumn(\n",
    "    'price',\n",
    "    when(col('price').isNull(), '0')\n",
    "    .otherwise(regexp_replace(col('price'), '[^0-9]', ''))\n",
    "    .cast('int')\n",
    ")\n",
    "\n",
    "# Xử lý cột 'discount': lấy giá trị phần trăm, thay thế giá trị null bằng 0, \n",
    "# và chuyển đổi thành số thập phân\n",
    "df1 = df1.withColumn(\n",
    "    'discount',\n",
    "    when(col('discount').isNull(), '0')\n",
    "    .otherwise(regexp_replace(col('discount'), '[^0-9]', ''))\n",
    "    .cast('int') / 100\n",
    ")\n",
    "\n",
    "# Xử lý cột 'sold': xóa chữ không mong muốn và chuyển đổi thành kiểu int\n",
    "df1 = df1.withColumn(\n",
    "    'sold',\n",
    "    when(col('sold').isNull(), '0')\n",
    "    .otherwise(regexp_replace(col('sold'), '[^\\d]', ''))\n",
    "    .cast('int')\n",
    ")\n",
    "\n",
    "# Tính toán giá trị giảm giá và giá sau khi giảm\n",
    "df1 = df1.withColumn(\n",
    "    'discount_value',\n",
    "    col('price') * col('discount')\n",
    ").withColumn(\n",
    "    'final_price',\n",
    "    col('price') - col('discount_value')\n",
    ")\n",
    "# Tách cột 'title' thành danh sách các từ\n",
    "split_col = split(col('title'), ' ')\n",
    "\n",
    "# Tạo cột 'Name' với 4 từ đầu tiên\n",
    "df1 = df1.withColumn('Name', concat_ws(' ', split_col.getItem(0), \n",
    "                                       split_col.getItem(1), split_col.getItem(2), \n",
    "                                       split_col.getItem(3)))\n",
    "\n",
    "# Di chuyển cột 'id' và 'Name' lên đầu\n",
    "columns = df1.columns\n",
    "new_column_order = ['id', 'Name'] + [col for col in columns if col not in ['id', 'Name']]\n",
    "\n",
    "df1 = df1.select(new_column_order)\n",
    "\n"
   ]
  },
  {
   "cell_type": "code",
   "execution_count": 42,
   "metadata": {},
   "outputs": [
    {
     "name": "stdout",
     "output_type": "stream",
     "text": [
      "+---+--------------------+--------------------+------+--------------------+--------+----+--------+-----------+--------------------+--------------+-----------+\n",
      "| id|                Name|               title| price|           link_item|discount|sold|evaluate|   location|           timestamp|discount_value|final_price|\n",
      "+---+--------------------+--------------------+------+--------------------+--------+----+--------+-----------+--------------------+--------------+-----------+\n",
      "|  1|   QUần Côn Nam Hàng|QUần Côn Nam Hàng...|100000|https://www.lazad...|     0.0|  75|      17|       NULL|2024-07-23 13:42:...|           0.0|   100000.0|\n",
      "|  2|  Quần Jeans nam cao|Quần Jeans nam ca...|100000|https://www.lazad...|    0.68|  44|      23|      China|2024-07-23 13:42:...|       68000.0|    32000.0|\n",
      "|  3|Quần short denim ...|Quần short denim ...|104400|https://www.lazad...|    0.43|  11|       5|Hồ Chí Minh|2024-07-23 13:42:...|       44892.0|    59508.0|\n",
      "|  4|    M-3XL Mùa Hè Hàn|M-3XL Mùa Hè Hàn ...|104600|https://www.lazad...|    0.23|  64|      17|       NULL|2024-07-23 13:42:...|       24058.0|    80542.0|\n",
      "|  5|  QUẦN JEAN NAM CHẤT|QUẦN JEAN NAM CHẤ...|105000|https://www.lazad...|    0.48|  42|      14|Hồ Chí Minh|2024-07-23 13:42:...|       50400.0|    54600.0|\n",
      "+---+--------------------+--------------------+------+--------------------+--------+----+--------+-----------+--------------------+--------------+-----------+\n",
      "only showing top 5 rows\n",
      "\n",
      "root\n",
      " |-- id: integer (nullable = false)\n",
      " |-- Name: string (nullable = false)\n",
      " |-- title: string (nullable = true)\n",
      " |-- price: integer (nullable = true)\n",
      " |-- link_item: string (nullable = true)\n",
      " |-- discount: double (nullable = true)\n",
      " |-- sold: integer (nullable = true)\n",
      " |-- evaluate: integer (nullable = true)\n",
      " |-- location: string (nullable = true)\n",
      " |-- timestamp: timestamp (nullable = true)\n",
      " |-- discount_value: double (nullable = true)\n",
      " |-- final_price: double (nullable = true)\n",
      "\n"
     ]
    }
   ],
   "source": [
    "df1.show(5)\n",
    "df1.printSchema()"
   ]
  },
  {
   "cell_type": "code",
   "execution_count": 43,
   "metadata": {},
   "outputs": [],
   "source": [
    "import pandas as pd\n"
   ]
  },
  {
   "cell_type": "code",
   "execution_count": 44,
   "metadata": {},
   "outputs": [],
   "source": [
    "# Lưu DataFrame dưới dạng CSV với đường dẫn lưu trữ cụ thể\n",
    "output_file_path = r'C:\\Users\\chihi\\OneDrive\\Desktop\\report\\data\\lazada_data_cleaned.csv'\n",
    "df1.toPandas().to_csv(output_file_path, index=False)"
   ]
  },
  {
   "cell_type": "markdown",
   "metadata": {},
   "source": [
    "# Lưu về csdl với bảng Product"
   ]
  },
  {
   "cell_type": "code",
   "execution_count": 45,
   "metadata": {},
   "outputs": [
    {
     "name": "stdout",
     "output_type": "stream",
     "text": [
      "Connected to PostgreSQL database!\n"
     ]
    }
   ],
   "source": [
    "import pandas as pd\n",
    "from sqlalchemy import create_engine\n",
    "\n",
    "# Thông tin kết nối\n",
    "username = 'postgres'\n",
    "password = '010701'\n",
    "host = 'localhost'\n",
    "port = '5433'\n",
    "database = 'lazada'\n",
    "\n",
    "# Tạo chuỗi kết nối\n",
    "engine = create_engine(f'postgresql+psycopg2://{username}:{password}@{host}:{port}/{database}')\n",
    "\n",
    "# Kiểm tra kết nối\n",
    "try:\n",
    "    with engine.connect() as connection:\n",
    "        print(\"Connected to PostgreSQL database!\")\n",
    "except Exception as e:\n",
    "    print(f\"Error: {e}\")\n"
   ]
  },
  {
   "cell_type": "markdown",
   "metadata": {},
   "source": [
    "* copy dữ liệu vào table prodct"
   ]
  },
  {
   "cell_type": "code",
   "execution_count": 46,
   "metadata": {},
   "outputs": [
    {
     "name": "stdout",
     "output_type": "stream",
     "text": [
      "Data successfully written to PostgreSQL\n"
     ]
    }
   ],
   "source": [
    "import pandas as pd\n",
    "import psycopg2\n",
    "from io import StringIO\n",
    "\n",
    "# Kết nối tới PostgreSQL\n",
    "conn = psycopg2.connect(\n",
    "    dbname='lazada',\n",
    "    user='postgres',\n",
    "    password='010701',\n",
    "    host='localhost',\n",
    "    port='5433'\n",
    ")\n",
    "cur = conn.cursor()\n",
    "\n",
    "# Đọc file CSV\n",
    "df2 = pd.read_csv(r'C:\\Users\\chihi\\OneDrive\\Desktop\\report\\data\\lazada_data_cleaned.csv')\n",
    "\n",
    "# Tạo bảng nếu chưa tồn tại\n",
    "create_table_query = '''\n",
    "CREATE TABLE IF NOT EXISTS product (\n",
    "    id INTEGER NOT NULL,\n",
    "    Name TEXT NOT NULL,\n",
    "    title TEXT,\n",
    "    price INTEGER,\n",
    "    link_item TEXT,\n",
    "    discount DOUBLE PRECISION,\n",
    "    sold INTEGER,\n",
    "    evaluate INTEGER,\n",
    "    location TEXT,\n",
    "    timestamp TIMESTAMP,\n",
    "    discount_value DOUBLE PRECISION,\n",
    "    final_price DOUBLE PRECISION\n",
    ");\n",
    "'''\n",
    "cur.execute(create_table_query)\n",
    "conn.commit()\n",
    "\n",
    "# Chuyển DataFrame thành định dạng CSV trong bộ nhớ\n",
    "output = StringIO()\n",
    "df2.to_csv(output, sep='\\t', header=False, index=False)\n",
    "output.seek(0)\n",
    "\n",
    "# Sử dụng copy_expert để ghi dữ liệu vào PostgreSQL\n",
    "copy_query = \"\"\"\n",
    "COPY product (id, Name, title, price, link_item, discount, sold, evaluate, location, timestamp, discount_value, final_price)\n",
    "FROM STDIN WITH CSV DELIMITER '\\t'\n",
    "\"\"\"\n",
    "cur.copy_expert(copy_query, output)\n",
    "\n",
    "conn.commit()\n",
    "cur.close()\n",
    "conn.close()\n",
    "\n",
    "print(\"Data successfully written to PostgreSQL\")\n"
   ]
  },
  {
   "cell_type": "code",
   "execution_count": 47,
   "metadata": {},
   "outputs": [],
   "source": [
    "# Đóng SparkSession\n",
    "spark.stop()"
   ]
  },
  {
   "cell_type": "markdown",
   "metadata": {},
   "source": []
  }
 ],
 "metadata": {
  "kernelspec": {
   "display_name": "Python 3",
   "language": "python",
   "name": "python3"
  },
  "language_info": {
   "codemirror_mode": {
    "name": "ipython",
    "version": 3
   },
   "file_extension": ".py",
   "mimetype": "text/x-python",
   "name": "python",
   "nbconvert_exporter": "python",
   "pygments_lexer": "ipython3",
   "version": "3.11.9"
  }
 },
 "nbformat": 4,
 "nbformat_minor": 2
}
